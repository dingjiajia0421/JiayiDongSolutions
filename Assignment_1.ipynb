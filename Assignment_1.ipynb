{
  "nbformat": 4,
  "nbformat_minor": 0,
  "metadata": {
    "colab": {
      "provenance": []
    },
    "kernelspec": {
      "name": "python3",
      "display_name": "Python 3"
    },
    "language_info": {
      "name": "python"
    }
  },
  "cells": [
    {
      "cell_type": "code",
      "source": [
        "pip install holidays"
      ],
      "metadata": {
        "colab": {
          "base_uri": "https://localhost:8080/"
        },
        "id": "E49yYEN0Qf0p",
        "outputId": "50dc3a44-08fb-49d4-c9ee-a5a68593de22"
      },
      "execution_count": 14,
      "outputs": [
        {
          "output_type": "stream",
          "name": "stdout",
          "text": [
            "Requirement already satisfied: holidays in /usr/local/lib/python3.10/dist-packages (0.48)\n",
            "Requirement already satisfied: python-dateutil in /usr/local/lib/python3.10/dist-packages (from holidays) (2.8.2)\n",
            "Requirement already satisfied: six>=1.5 in /usr/local/lib/python3.10/dist-packages (from python-dateutil->holidays) (1.16.0)\n"
          ]
        }
      ]
    },
    {
      "cell_type": "code",
      "execution_count": 15,
      "metadata": {
        "id": "fSfdqns63_By"
      },
      "outputs": [],
      "source": [
        "import calendar\n",
        "from datetime import datetime, timedelta\n",
        "import holidays"
      ]
    },
    {
      "cell_type": "code",
      "source": [
        "# Initialize the US holidays library\n",
        "us_holidays = holidays.US(years=[2019, 2020, 2021, 2022, 2023, 2024, 2025, 2026])\n",
        "\n",
        "# Function to check if a date is a NERC holiday\n",
        "def is_nerc_holiday(date):\n",
        "    return date in us_holidays"
      ],
      "metadata": {
        "id": "7N9PX0p6Qqt2"
      },
      "execution_count": 16,
      "outputs": []
    },
    {
      "cell_type": "code",
      "source": [
        "# Function to get the peak hours for a given peak type and date\n",
        "def get_iso_peak_hours(peak_type, date):\n",
        "    weekday = date.weekday()\n",
        "    if peak_type == \"onpeak\":\n",
        "        if weekday < 5 and not is_nerc_holiday(date):  # Monday to Friday, excluding holidays\n",
        "            return list(range(7, 23))\n",
        "        else:\n",
        "            return []  # No onpeak hours on weekends or holidays\n",
        "    elif peak_type == \"offpeak\":\n",
        "        if weekday < 5 and not is_nerc_holiday(date):\n",
        "            return list(range(1, 7)) + list(range(23, 25))\n",
        "        else:  # All hours on weekends and holidays\n",
        "            return list(range(1, 25))\n",
        "    elif peak_type == \"flat\":\n",
        "        return list(range(1, 25))\n",
        "    elif peak_type == \"2x16H\":\n",
        "        if weekday >= 5 or is_nerc_holiday(date):  # Only weekends and holidays\n",
        "            return list(range(7, 23))\n",
        "    elif peak_type == \"7x8\":\n",
        "        return list(range(7, 23))\n",
        "    return []"
      ],
      "metadata": {
        "id": "Wligm8q3QsAI"
      },
      "execution_count": 18,
      "outputs": []
    },
    {
      "cell_type": "code",
      "source": [
        "# Main function to get hours for a given ISO, peak type, and period\n",
        "def get_hours(iso, peak_type, period):\n",
        "    # Determine start and end dates based on period format\n",
        "    if \"-\" in period:\n",
        "        start_date = datetime.strptime(period, \"%Y-%m-%d\")\n",
        "        end_date = start_date\n",
        "    elif period[-3:] in list(calendar.month_abbr):\n",
        "        start_date = datetime.strptime(period, \"%Y%b\")\n",
        "        end_date = start_date + timedelta(days=calendar.monthrange(start_date.year, start_date.month)[1] - 1)\n",
        "    elif \"Q\" in period:\n",
        "        year = int(period[:4])\n",
        "        quarter = int(period[5:])\n",
        "        if quarter == 1:\n",
        "            start_date = datetime(year, 1, 1)\n",
        "            end_date = datetime(year, 3, 31)\n",
        "        elif quarter == 2:\n",
        "            start_date = datetime(year, 4, 1)\n",
        "            end_date = datetime(year, 6, 30)\n",
        "        elif quarter == 3:\n",
        "            start_date = datetime(year, 7, 1)\n",
        "            end_date = datetime(year, 9, 30)\n",
        "        elif quarter == 4:\n",
        "            start_date = datetime(year, 10, 1)\n",
        "            end_date = datetime(year, 12, 31)\n",
        "    elif \"A\" in period:\n",
        "        year = int(period[:-1])\n",
        "        start_date = datetime(year, 1, 1)\n",
        "        end_date = datetime(year, 12, 31)\n",
        "\n",
        "    # Calculate total hours based on start and end dates\n",
        "    total_hours = 0\n",
        "    current_date = start_date\n",
        "    while current_date <= end_date:\n",
        "        peak_hours = get_iso_peak_hours(peak_type, current_date)\n",
        "        total_hours += len(peak_hours)\n",
        "        current_date += timedelta(days=1)\n",
        "\n",
        "    result = {\n",
        "        'iso': iso,\n",
        "        'peak_type': peak_type.upper(),\n",
        "        'startdate': start_date.strftime('%Y-%m-%d'),\n",
        "        'enddate': end_date.strftime('%Y-%m-%d'),\n",
        "        'num_hours': total_hours\n",
        "    }\n",
        "\n",
        "    return result"
      ],
      "metadata": {
        "id": "ivOS-klvQ3Ur"
      },
      "execution_count": null,
      "outputs": []
    },
    {
      "cell_type": "code",
      "source": [
        "#Test\n",
        "results = get_hours(\"ERCOT\", \"onpeak\", \"2019May\")\n",
        "print(results)"
      ],
      "metadata": {
        "colab": {
          "base_uri": "https://localhost:8080/"
        },
        "id": "6ayEECiaRAzR",
        "outputId": "1b95e43d-c918-45c6-d2a0-12e2fc8cc115"
      },
      "execution_count": 19,
      "outputs": [
        {
          "output_type": "stream",
          "name": "stdout",
          "text": [
            "{'iso': 'ERCOT', 'peak_type': 'ONPEAK', 'startdate': '2019-05-01', 'enddate': '2019-05-31', 'num_hours': 352}\n"
          ]
        }
      ]
    },
    {
      "cell_type": "markdown",
      "source": [
        "Summary: The program accurately calculates the total number of peak hours for various Independent System Operators (ISOs) by iterating over each day in a specified period and checking whether the date falls on a weekend or NERC holiday using the holidays library. This approach ensures the precise determination of onpeak and offpeak hours based on established industry definitions. By automating holiday checks, the program reduces manual updates and enhances reliability. The final output includes the ISO, peak type, start and end dates, and the total number of peak hours, ensuring a comprehensive and user-friendly result."
      ],
      "metadata": {
        "id": "koW0rtBnRGyl"
      }
    },
    {
      "cell_type": "code",
      "source": [],
      "metadata": {
        "id": "7UlDhzBCmRZ-"
      },
      "execution_count": null,
      "outputs": []
    }
  ]
}